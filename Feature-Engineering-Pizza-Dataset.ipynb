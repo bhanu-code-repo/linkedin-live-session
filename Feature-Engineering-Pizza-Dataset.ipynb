{
 "cells": [
  {
   "cell_type": "code",
   "execution_count": 1,
   "id": "6e91ebcb-826a-494f-bc1f-e300938378af",
   "metadata": {},
   "outputs": [],
   "source": [
    "import pandas as pd\n",
    "import numpy as np\n",
    "import matplotlib.pyplot as plt\n",
    "import seaborn as sns\n",
    "\n",
    "from sklearn import preprocessing "
   ]
  },
  {
   "cell_type": "code",
   "execution_count": 2,
   "id": "5ff5d676",
   "metadata": {},
   "outputs": [
    {
     "data": {
      "text/plain": [
       "(48620, 12)"
      ]
     },
     "execution_count": 2,
     "metadata": {},
     "output_type": "execute_result"
    }
   ],
   "source": [
    "df = pd.read_csv('data/pizza_sales.csv')\n",
    "df.shape"
   ]
  },
  {
   "cell_type": "code",
   "execution_count": 3,
   "id": "32a877b4",
   "metadata": {},
   "outputs": [
    {
     "data": {
      "text/html": [
       "<div>\n",
       "<style scoped>\n",
       "    .dataframe tbody tr th:only-of-type {\n",
       "        vertical-align: middle;\n",
       "    }\n",
       "\n",
       "    .dataframe tbody tr th {\n",
       "        vertical-align: top;\n",
       "    }\n",
       "\n",
       "    .dataframe thead th {\n",
       "        text-align: right;\n",
       "    }\n",
       "</style>\n",
       "<table border=\"1\" class=\"dataframe\">\n",
       "  <thead>\n",
       "    <tr style=\"text-align: right;\">\n",
       "      <th></th>\n",
       "      <th>pizza_id</th>\n",
       "      <th>order_id</th>\n",
       "      <th>pizza_name_id</th>\n",
       "      <th>quantity</th>\n",
       "      <th>order_date</th>\n",
       "      <th>order_time</th>\n",
       "      <th>unit_price</th>\n",
       "      <th>total_price</th>\n",
       "      <th>pizza_size</th>\n",
       "      <th>pizza_category</th>\n",
       "      <th>pizza_ingredients</th>\n",
       "      <th>pizza_name</th>\n",
       "    </tr>\n",
       "  </thead>\n",
       "  <tbody>\n",
       "    <tr>\n",
       "      <th>0</th>\n",
       "      <td>1.0</td>\n",
       "      <td>1.0</td>\n",
       "      <td>hawaiian_m</td>\n",
       "      <td>1.0</td>\n",
       "      <td>1/1/2015</td>\n",
       "      <td>11:38:36</td>\n",
       "      <td>13.25</td>\n",
       "      <td>13.25</td>\n",
       "      <td>M</td>\n",
       "      <td>Classic</td>\n",
       "      <td>Sliced Ham, Pineapple, Mozzarella Cheese</td>\n",
       "      <td>The Hawaiian Pizza</td>\n",
       "    </tr>\n",
       "    <tr>\n",
       "      <th>1</th>\n",
       "      <td>2.0</td>\n",
       "      <td>2.0</td>\n",
       "      <td>classic_dlx_m</td>\n",
       "      <td>1.0</td>\n",
       "      <td>1/1/2015</td>\n",
       "      <td>11:57:40</td>\n",
       "      <td>16.00</td>\n",
       "      <td>16.00</td>\n",
       "      <td>M</td>\n",
       "      <td>Classic</td>\n",
       "      <td>Pepperoni, Mushrooms, Red Onions, Red Peppers,...</td>\n",
       "      <td>The Classic Deluxe Pizza</td>\n",
       "    </tr>\n",
       "    <tr>\n",
       "      <th>2</th>\n",
       "      <td>3.0</td>\n",
       "      <td>2.0</td>\n",
       "      <td>five_cheese_l</td>\n",
       "      <td>1.0</td>\n",
       "      <td>1/1/2015</td>\n",
       "      <td>11:57:40</td>\n",
       "      <td>18.50</td>\n",
       "      <td>18.50</td>\n",
       "      <td>L</td>\n",
       "      <td>Veggie</td>\n",
       "      <td>Mozzarella Cheese, Provolone Cheese, Smoked Go...</td>\n",
       "      <td>The Five Cheese Pizza</td>\n",
       "    </tr>\n",
       "    <tr>\n",
       "      <th>3</th>\n",
       "      <td>4.0</td>\n",
       "      <td>2.0</td>\n",
       "      <td>ital_supr_l</td>\n",
       "      <td>1.0</td>\n",
       "      <td>1/1/2015</td>\n",
       "      <td>11:57:40</td>\n",
       "      <td>20.75</td>\n",
       "      <td>20.75</td>\n",
       "      <td>L</td>\n",
       "      <td>Supreme</td>\n",
       "      <td>Calabrese Salami, Capocollo, Tomatoes, Red Oni...</td>\n",
       "      <td>The Italian Supreme Pizza</td>\n",
       "    </tr>\n",
       "    <tr>\n",
       "      <th>4</th>\n",
       "      <td>5.0</td>\n",
       "      <td>2.0</td>\n",
       "      <td>mexicana_m</td>\n",
       "      <td>1.0</td>\n",
       "      <td>1/1/2015</td>\n",
       "      <td>11:57:40</td>\n",
       "      <td>16.00</td>\n",
       "      <td>16.00</td>\n",
       "      <td>M</td>\n",
       "      <td>Veggie</td>\n",
       "      <td>Tomatoes, Red Peppers, Jalapeno Peppers, Red O...</td>\n",
       "      <td>The Mexicana Pizza</td>\n",
       "    </tr>\n",
       "  </tbody>\n",
       "</table>\n",
       "</div>"
      ],
      "text/plain": [
       "   pizza_id  order_id  pizza_name_id  quantity order_date order_time  \\\n",
       "0       1.0       1.0     hawaiian_m       1.0   1/1/2015   11:38:36   \n",
       "1       2.0       2.0  classic_dlx_m       1.0   1/1/2015   11:57:40   \n",
       "2       3.0       2.0  five_cheese_l       1.0   1/1/2015   11:57:40   \n",
       "3       4.0       2.0    ital_supr_l       1.0   1/1/2015   11:57:40   \n",
       "4       5.0       2.0     mexicana_m       1.0   1/1/2015   11:57:40   \n",
       "\n",
       "   unit_price  total_price pizza_size pizza_category  \\\n",
       "0       13.25        13.25          M        Classic   \n",
       "1       16.00        16.00          M        Classic   \n",
       "2       18.50        18.50          L         Veggie   \n",
       "3       20.75        20.75          L        Supreme   \n",
       "4       16.00        16.00          M         Veggie   \n",
       "\n",
       "                                   pizza_ingredients  \\\n",
       "0           Sliced Ham, Pineapple, Mozzarella Cheese   \n",
       "1  Pepperoni, Mushrooms, Red Onions, Red Peppers,...   \n",
       "2  Mozzarella Cheese, Provolone Cheese, Smoked Go...   \n",
       "3  Calabrese Salami, Capocollo, Tomatoes, Red Oni...   \n",
       "4  Tomatoes, Red Peppers, Jalapeno Peppers, Red O...   \n",
       "\n",
       "                  pizza_name  \n",
       "0         The Hawaiian Pizza  \n",
       "1   The Classic Deluxe Pizza  \n",
       "2      The Five Cheese Pizza  \n",
       "3  The Italian Supreme Pizza  \n",
       "4         The Mexicana Pizza  "
      ]
     },
     "execution_count": 3,
     "metadata": {},
     "output_type": "execute_result"
    }
   ],
   "source": [
    "df.head()"
   ]
  },
  {
   "cell_type": "code",
   "execution_count": 4,
   "id": "070ae27a",
   "metadata": {},
   "outputs": [
    {
     "name": "stdout",
     "output_type": "stream",
     "text": [
      "<class 'pandas.core.frame.DataFrame'>\n",
      "RangeIndex: 48620 entries, 0 to 48619\n",
      "Data columns (total 12 columns):\n",
      " #   Column             Non-Null Count  Dtype  \n",
      "---  ------             --------------  -----  \n",
      " 0   pizza_id           48620 non-null  float64\n",
      " 1   order_id           48620 non-null  float64\n",
      " 2   pizza_name_id      48620 non-null  object \n",
      " 3   quantity           48620 non-null  float64\n",
      " 4   order_date         48620 non-null  object \n",
      " 5   order_time         48620 non-null  object \n",
      " 6   unit_price         48620 non-null  float64\n",
      " 7   total_price        48620 non-null  float64\n",
      " 8   pizza_size         48620 non-null  object \n",
      " 9   pizza_category     48620 non-null  object \n",
      " 10  pizza_ingredients  48620 non-null  object \n",
      " 11  pizza_name         48620 non-null  object \n",
      "dtypes: float64(5), object(7)\n",
      "memory usage: 4.5+ MB\n"
     ]
    }
   ],
   "source": [
    "df.info()"
   ]
  },
  {
   "cell_type": "code",
   "execution_count": 5,
   "id": "3c8b9379",
   "metadata": {},
   "outputs": [
    {
     "data": {
      "text/html": [
       "<div>\n",
       "<style scoped>\n",
       "    .dataframe tbody tr th:only-of-type {\n",
       "        vertical-align: middle;\n",
       "    }\n",
       "\n",
       "    .dataframe tbody tr th {\n",
       "        vertical-align: top;\n",
       "    }\n",
       "\n",
       "    .dataframe thead th {\n",
       "        text-align: right;\n",
       "    }\n",
       "</style>\n",
       "<table border=\"1\" class=\"dataframe\">\n",
       "  <thead>\n",
       "    <tr style=\"text-align: right;\">\n",
       "      <th></th>\n",
       "      <th>pizza_id</th>\n",
       "      <th>order_id</th>\n",
       "      <th>quantity</th>\n",
       "      <th>unit_price</th>\n",
       "      <th>total_price</th>\n",
       "    </tr>\n",
       "  </thead>\n",
       "  <tbody>\n",
       "    <tr>\n",
       "      <th>count</th>\n",
       "      <td>48620.000000</td>\n",
       "      <td>48620.000000</td>\n",
       "      <td>48620.000000</td>\n",
       "      <td>48620.000000</td>\n",
       "      <td>48620.000000</td>\n",
       "    </tr>\n",
       "    <tr>\n",
       "      <th>mean</th>\n",
       "      <td>24310.500000</td>\n",
       "      <td>10701.479761</td>\n",
       "      <td>1.019622</td>\n",
       "      <td>16.494132</td>\n",
       "      <td>16.821474</td>\n",
       "    </tr>\n",
       "    <tr>\n",
       "      <th>std</th>\n",
       "      <td>14035.529381</td>\n",
       "      <td>6180.119770</td>\n",
       "      <td>0.143077</td>\n",
       "      <td>3.621789</td>\n",
       "      <td>4.437398</td>\n",
       "    </tr>\n",
       "    <tr>\n",
       "      <th>min</th>\n",
       "      <td>1.000000</td>\n",
       "      <td>1.000000</td>\n",
       "      <td>1.000000</td>\n",
       "      <td>9.750000</td>\n",
       "      <td>9.750000</td>\n",
       "    </tr>\n",
       "    <tr>\n",
       "      <th>25%</th>\n",
       "      <td>12155.750000</td>\n",
       "      <td>5337.000000</td>\n",
       "      <td>1.000000</td>\n",
       "      <td>12.750000</td>\n",
       "      <td>12.750000</td>\n",
       "    </tr>\n",
       "    <tr>\n",
       "      <th>50%</th>\n",
       "      <td>24310.500000</td>\n",
       "      <td>10682.500000</td>\n",
       "      <td>1.000000</td>\n",
       "      <td>16.500000</td>\n",
       "      <td>16.500000</td>\n",
       "    </tr>\n",
       "    <tr>\n",
       "      <th>75%</th>\n",
       "      <td>36465.250000</td>\n",
       "      <td>16100.000000</td>\n",
       "      <td>1.000000</td>\n",
       "      <td>20.250000</td>\n",
       "      <td>20.500000</td>\n",
       "    </tr>\n",
       "    <tr>\n",
       "      <th>max</th>\n",
       "      <td>48620.000000</td>\n",
       "      <td>21350.000000</td>\n",
       "      <td>4.000000</td>\n",
       "      <td>35.950000</td>\n",
       "      <td>83.000000</td>\n",
       "    </tr>\n",
       "  </tbody>\n",
       "</table>\n",
       "</div>"
      ],
      "text/plain": [
       "           pizza_id      order_id      quantity    unit_price   total_price\n",
       "count  48620.000000  48620.000000  48620.000000  48620.000000  48620.000000\n",
       "mean   24310.500000  10701.479761      1.019622     16.494132     16.821474\n",
       "std    14035.529381   6180.119770      0.143077      3.621789      4.437398\n",
       "min        1.000000      1.000000      1.000000      9.750000      9.750000\n",
       "25%    12155.750000   5337.000000      1.000000     12.750000     12.750000\n",
       "50%    24310.500000  10682.500000      1.000000     16.500000     16.500000\n",
       "75%    36465.250000  16100.000000      1.000000     20.250000     20.500000\n",
       "max    48620.000000  21350.000000      4.000000     35.950000     83.000000"
      ]
     },
     "execution_count": 5,
     "metadata": {},
     "output_type": "execute_result"
    }
   ],
   "source": [
    "df.describe()"
   ]
  },
  {
   "cell_type": "code",
   "execution_count": 6,
   "id": "c690727a",
   "metadata": {},
   "outputs": [
    {
     "data": {
      "text/plain": [
       "pizza_id             0\n",
       "order_id             0\n",
       "pizza_name_id        0\n",
       "quantity             0\n",
       "order_date           0\n",
       "order_time           0\n",
       "unit_price           0\n",
       "total_price          0\n",
       "pizza_size           0\n",
       "pizza_category       0\n",
       "pizza_ingredients    0\n",
       "pizza_name           0\n",
       "dtype: int64"
      ]
     },
     "execution_count": 6,
     "metadata": {},
     "output_type": "execute_result"
    }
   ],
   "source": [
    "# Check for null values\n",
    "null_values = df.isnull().sum()\n",
    "null_values"
   ]
  },
  {
   "cell_type": "code",
   "execution_count": 7,
   "id": "9e1806ac",
   "metadata": {},
   "outputs": [
    {
     "data": {
      "text/plain": [
       "pizza_id             0.0\n",
       "order_id             0.0\n",
       "pizza_name_id        0.0\n",
       "quantity             0.0\n",
       "order_date           0.0\n",
       "order_time           0.0\n",
       "unit_price           0.0\n",
       "total_price          0.0\n",
       "pizza_size           0.0\n",
       "pizza_category       0.0\n",
       "pizza_ingredients    0.0\n",
       "pizza_name           0.0\n",
       "dtype: float64"
      ]
     },
     "execution_count": 7,
     "metadata": {},
     "output_type": "execute_result"
    }
   ],
   "source": [
    "# Calculate the percentage of missing values in each column\n",
    "missing_percentage = (df.isnull().mean() * 100).sort_values(ascending=False)\n",
    "missing_percentage"
   ]
  },
  {
   "cell_type": "code",
   "execution_count": 8,
   "id": "4746b5ca",
   "metadata": {},
   "outputs": [
    {
     "data": {
      "text/plain": [
       "(307973, 21)"
      ]
     },
     "execution_count": 8,
     "metadata": {},
     "output_type": "execute_result"
    }
   ],
   "source": [
    "accident_data = pd.read_csv('data/road_accident_data.csv')\n",
    "accident_data.shape"
   ]
  },
  {
   "cell_type": "code",
   "execution_count": 9,
   "id": "a509fb82",
   "metadata": {},
   "outputs": [
    {
     "data": {
      "text/html": [
       "<div>\n",
       "<style scoped>\n",
       "    .dataframe tbody tr th:only-of-type {\n",
       "        vertical-align: middle;\n",
       "    }\n",
       "\n",
       "    .dataframe tbody tr th {\n",
       "        vertical-align: top;\n",
       "    }\n",
       "\n",
       "    .dataframe thead th {\n",
       "        text-align: right;\n",
       "    }\n",
       "</style>\n",
       "<table border=\"1\" class=\"dataframe\">\n",
       "  <thead>\n",
       "    <tr style=\"text-align: right;\">\n",
       "      <th></th>\n",
       "      <th>Accident_Index</th>\n",
       "      <th>Accident Date</th>\n",
       "      <th>Day_of_Week</th>\n",
       "      <th>Junction_Control</th>\n",
       "      <th>Junction_Detail</th>\n",
       "      <th>Accident_Severity</th>\n",
       "      <th>Latitude</th>\n",
       "      <th>Light_Conditions</th>\n",
       "      <th>Local_Authority_(District)</th>\n",
       "      <th>Carriageway_Hazards</th>\n",
       "      <th>...</th>\n",
       "      <th>Number_of_Casualties</th>\n",
       "      <th>Number_of_Vehicles</th>\n",
       "      <th>Police_Force</th>\n",
       "      <th>Road_Surface_Conditions</th>\n",
       "      <th>Road_Type</th>\n",
       "      <th>Speed_limit</th>\n",
       "      <th>Time</th>\n",
       "      <th>Urban_or_Rural_Area</th>\n",
       "      <th>Weather_Conditions</th>\n",
       "      <th>Vehicle_Type</th>\n",
       "    </tr>\n",
       "  </thead>\n",
       "  <tbody>\n",
       "    <tr>\n",
       "      <th>0</th>\n",
       "      <td>200901BS70001</td>\n",
       "      <td>1/1/2021</td>\n",
       "      <td>Thursday</td>\n",
       "      <td>Give way or uncontrolled</td>\n",
       "      <td>T or staggered junction</td>\n",
       "      <td>Serious</td>\n",
       "      <td>51.512273</td>\n",
       "      <td>Daylight</td>\n",
       "      <td>Kensington and Chelsea</td>\n",
       "      <td>NaN</td>\n",
       "      <td>...</td>\n",
       "      <td>1</td>\n",
       "      <td>2</td>\n",
       "      <td>Metropolitan Police</td>\n",
       "      <td>Dry</td>\n",
       "      <td>One way street</td>\n",
       "      <td>30</td>\n",
       "      <td>15:11</td>\n",
       "      <td>Urban</td>\n",
       "      <td>Fine no high winds</td>\n",
       "      <td>Car</td>\n",
       "    </tr>\n",
       "    <tr>\n",
       "      <th>1</th>\n",
       "      <td>200901BS70002</td>\n",
       "      <td>1/5/2021</td>\n",
       "      <td>Monday</td>\n",
       "      <td>Give way or uncontrolled</td>\n",
       "      <td>Crossroads</td>\n",
       "      <td>Serious</td>\n",
       "      <td>51.514399</td>\n",
       "      <td>Daylight</td>\n",
       "      <td>Kensington and Chelsea</td>\n",
       "      <td>NaN</td>\n",
       "      <td>...</td>\n",
       "      <td>11</td>\n",
       "      <td>2</td>\n",
       "      <td>Metropolitan Police</td>\n",
       "      <td>Wet or damp</td>\n",
       "      <td>Single carriageway</td>\n",
       "      <td>30</td>\n",
       "      <td>10:59</td>\n",
       "      <td>Urban</td>\n",
       "      <td>Fine no high winds</td>\n",
       "      <td>Taxi/Private hire car</td>\n",
       "    </tr>\n",
       "    <tr>\n",
       "      <th>2</th>\n",
       "      <td>200901BS70003</td>\n",
       "      <td>1/4/2021</td>\n",
       "      <td>Sunday</td>\n",
       "      <td>Give way or uncontrolled</td>\n",
       "      <td>T or staggered junction</td>\n",
       "      <td>Slight</td>\n",
       "      <td>51.486668</td>\n",
       "      <td>Daylight</td>\n",
       "      <td>Kensington and Chelsea</td>\n",
       "      <td>NaN</td>\n",
       "      <td>...</td>\n",
       "      <td>1</td>\n",
       "      <td>2</td>\n",
       "      <td>Metropolitan Police</td>\n",
       "      <td>Dry</td>\n",
       "      <td>Single carriageway</td>\n",
       "      <td>30</td>\n",
       "      <td>14:19</td>\n",
       "      <td>Urban</td>\n",
       "      <td>Fine no high winds</td>\n",
       "      <td>Taxi/Private hire car</td>\n",
       "    </tr>\n",
       "    <tr>\n",
       "      <th>3</th>\n",
       "      <td>200901BS70004</td>\n",
       "      <td>1/5/2021</td>\n",
       "      <td>Monday</td>\n",
       "      <td>Auto traffic signal</td>\n",
       "      <td>T or staggered junction</td>\n",
       "      <td>Serious</td>\n",
       "      <td>51.507804</td>\n",
       "      <td>Daylight</td>\n",
       "      <td>Kensington and Chelsea</td>\n",
       "      <td>NaN</td>\n",
       "      <td>...</td>\n",
       "      <td>1</td>\n",
       "      <td>2</td>\n",
       "      <td>Metropolitan Police</td>\n",
       "      <td>Frost or ice</td>\n",
       "      <td>Single carriageway</td>\n",
       "      <td>30</td>\n",
       "      <td>8:10</td>\n",
       "      <td>Urban</td>\n",
       "      <td>Other</td>\n",
       "      <td>Motorcycle over 500cc</td>\n",
       "    </tr>\n",
       "    <tr>\n",
       "      <th>4</th>\n",
       "      <td>200901BS70005</td>\n",
       "      <td>1/6/2021</td>\n",
       "      <td>Tuesday</td>\n",
       "      <td>Auto traffic signal</td>\n",
       "      <td>Crossroads</td>\n",
       "      <td>Serious</td>\n",
       "      <td>51.482076</td>\n",
       "      <td>Darkness - lights lit</td>\n",
       "      <td>Kensington and Chelsea</td>\n",
       "      <td>NaN</td>\n",
       "      <td>...</td>\n",
       "      <td>1</td>\n",
       "      <td>2</td>\n",
       "      <td>Metropolitan Police</td>\n",
       "      <td>Dry</td>\n",
       "      <td>Single carriageway</td>\n",
       "      <td>30</td>\n",
       "      <td>17:25</td>\n",
       "      <td>Urban</td>\n",
       "      <td>Fine no high winds</td>\n",
       "      <td>Car</td>\n",
       "    </tr>\n",
       "  </tbody>\n",
       "</table>\n",
       "<p>5 rows × 21 columns</p>\n",
       "</div>"
      ],
      "text/plain": [
       "  Accident_Index Accident Date Day_of_Week          Junction_Control  \\\n",
       "0  200901BS70001      1/1/2021    Thursday  Give way or uncontrolled   \n",
       "1  200901BS70002      1/5/2021      Monday  Give way or uncontrolled   \n",
       "2  200901BS70003      1/4/2021      Sunday  Give way or uncontrolled   \n",
       "3  200901BS70004      1/5/2021      Monday       Auto traffic signal   \n",
       "4  200901BS70005      1/6/2021     Tuesday       Auto traffic signal   \n",
       "\n",
       "           Junction_Detail Accident_Severity   Latitude  \\\n",
       "0  T or staggered junction           Serious  51.512273   \n",
       "1               Crossroads           Serious  51.514399   \n",
       "2  T or staggered junction            Slight  51.486668   \n",
       "3  T or staggered junction           Serious  51.507804   \n",
       "4               Crossroads           Serious  51.482076   \n",
       "\n",
       "        Light_Conditions Local_Authority_(District) Carriageway_Hazards  ...  \\\n",
       "0               Daylight     Kensington and Chelsea                 NaN  ...   \n",
       "1               Daylight     Kensington and Chelsea                 NaN  ...   \n",
       "2               Daylight     Kensington and Chelsea                 NaN  ...   \n",
       "3               Daylight     Kensington and Chelsea                 NaN  ...   \n",
       "4  Darkness - lights lit     Kensington and Chelsea                 NaN  ...   \n",
       "\n",
       "   Number_of_Casualties  Number_of_Vehicles         Police_Force  \\\n",
       "0                     1                   2  Metropolitan Police   \n",
       "1                    11                   2  Metropolitan Police   \n",
       "2                     1                   2  Metropolitan Police   \n",
       "3                     1                   2  Metropolitan Police   \n",
       "4                     1                   2  Metropolitan Police   \n",
       "\n",
       "  Road_Surface_Conditions           Road_Type Speed_limit   Time  \\\n",
       "0                     Dry      One way street          30  15:11   \n",
       "1             Wet or damp  Single carriageway          30  10:59   \n",
       "2                     Dry  Single carriageway          30  14:19   \n",
       "3            Frost or ice  Single carriageway          30   8:10   \n",
       "4                     Dry  Single carriageway          30  17:25   \n",
       "\n",
       "  Urban_or_Rural_Area  Weather_Conditions           Vehicle_Type  \n",
       "0               Urban  Fine no high winds                    Car  \n",
       "1               Urban  Fine no high winds  Taxi/Private hire car  \n",
       "2               Urban  Fine no high winds  Taxi/Private hire car  \n",
       "3               Urban               Other  Motorcycle over 500cc  \n",
       "4               Urban  Fine no high winds                    Car  \n",
       "\n",
       "[5 rows x 21 columns]"
      ]
     },
     "execution_count": 9,
     "metadata": {},
     "output_type": "execute_result"
    }
   ],
   "source": [
    "accident_data.head()"
   ]
  },
  {
   "cell_type": "code",
   "execution_count": 10,
   "id": "7502b817",
   "metadata": {},
   "outputs": [
    {
     "name": "stdout",
     "output_type": "stream",
     "text": [
      "<class 'pandas.core.frame.DataFrame'>\n",
      "RangeIndex: 307973 entries, 0 to 307972\n",
      "Data columns (total 21 columns):\n",
      " #   Column                      Non-Null Count   Dtype  \n",
      "---  ------                      --------------   -----  \n",
      " 0   Accident_Index              307973 non-null  object \n",
      " 1   Accident Date               307973 non-null  object \n",
      " 2   Day_of_Week                 307973 non-null  object \n",
      " 3   Junction_Control            307973 non-null  object \n",
      " 4   Junction_Detail             307973 non-null  object \n",
      " 5   Accident_Severity           307973 non-null  object \n",
      " 6   Latitude                    307973 non-null  float64\n",
      " 7   Light_Conditions            307973 non-null  object \n",
      " 8   Local_Authority_(District)  307973 non-null  object \n",
      " 9   Carriageway_Hazards         5424 non-null    object \n",
      " 10  Longitude                   307973 non-null  float64\n",
      " 11  Number_of_Casualties        307973 non-null  int64  \n",
      " 12  Number_of_Vehicles          307973 non-null  int64  \n",
      " 13  Police_Force                307973 non-null  object \n",
      " 14  Road_Surface_Conditions     307656 non-null  object \n",
      " 15  Road_Type                   306439 non-null  object \n",
      " 16  Speed_limit                 307973 non-null  int64  \n",
      " 17  Time                        307956 non-null  object \n",
      " 18  Urban_or_Rural_Area         307973 non-null  object \n",
      " 19  Weather_Conditions          301916 non-null  object \n",
      " 20  Vehicle_Type                307973 non-null  object \n",
      "dtypes: float64(2), int64(3), object(16)\n",
      "memory usage: 49.3+ MB\n"
     ]
    }
   ],
   "source": [
    "accident_data.info()"
   ]
  },
  {
   "cell_type": "code",
   "execution_count": 16,
   "id": "6d1f927e",
   "metadata": {},
   "outputs": [
    {
     "data": {
      "text/plain": [
       "Carriageway_Hazards        98.24\n",
       "Weather_Conditions          1.97\n",
       "Road_Type                   0.50\n",
       "Road_Surface_Conditions     0.10\n",
       "Time                        0.01\n",
       "dtype: float64"
      ]
     },
     "execution_count": 16,
     "metadata": {},
     "output_type": "execute_result"
    }
   ],
   "source": [
    "# Calculate the percentage of missing values in each column\n",
    "missing_percentage_accident = (accident_data.isnull().mean() * 100).sort_values(ascending=False).round(2).loc[lambda x: x > 0.0]\n",
    "missing_percentage_accident"
   ]
  },
  {
   "cell_type": "code",
   "execution_count": 18,
   "id": "c0dec961",
   "metadata": {},
   "outputs": [
    {
     "data": {
      "text/plain": [
       "Weather_Conditions\n",
       "Fine no high winds       244496\n",
       "Raining no high winds     34877\n",
       "Other                      8802\n",
       "Snowing no high winds      4839\n",
       "Raining + high winds       3526\n",
       "Fine + high winds          3148\n",
       "Fog or mist                1690\n",
       "Snowing + high winds        538\n",
       "Name: count, dtype: int64"
      ]
     },
     "execution_count": 18,
     "metadata": {},
     "output_type": "execute_result"
    }
   ],
   "source": [
    "accident_data['Weather_Conditions'].value_counts()"
   ]
  },
  {
   "cell_type": "code",
   "execution_count": 20,
   "id": "b6c6b7c9",
   "metadata": {},
   "outputs": [
    {
     "data": {
      "text/html": [
       "<div>\n",
       "<style scoped>\n",
       "    .dataframe tbody tr th:only-of-type {\n",
       "        vertical-align: middle;\n",
       "    }\n",
       "\n",
       "    .dataframe tbody tr th {\n",
       "        vertical-align: top;\n",
       "    }\n",
       "\n",
       "    .dataframe thead th {\n",
       "        text-align: right;\n",
       "    }\n",
       "</style>\n",
       "<table border=\"1\" class=\"dataframe\">\n",
       "  <thead>\n",
       "    <tr style=\"text-align: right;\">\n",
       "      <th></th>\n",
       "      <th>Accident_Index</th>\n",
       "      <th>Accident Date</th>\n",
       "      <th>Day_of_Week</th>\n",
       "      <th>Junction_Control</th>\n",
       "      <th>Junction_Detail</th>\n",
       "      <th>Accident_Severity</th>\n",
       "      <th>Latitude</th>\n",
       "      <th>Light_Conditions</th>\n",
       "      <th>Local_Authority_(District)</th>\n",
       "      <th>Carriageway_Hazards</th>\n",
       "      <th>...</th>\n",
       "      <th>Number_of_Casualties</th>\n",
       "      <th>Number_of_Vehicles</th>\n",
       "      <th>Police_Force</th>\n",
       "      <th>Road_Surface_Conditions</th>\n",
       "      <th>Road_Type</th>\n",
       "      <th>Speed_limit</th>\n",
       "      <th>Time</th>\n",
       "      <th>Urban_or_Rural_Area</th>\n",
       "      <th>Weather_Conditions</th>\n",
       "      <th>Vehicle_Type</th>\n",
       "    </tr>\n",
       "  </thead>\n",
       "  <tbody>\n",
       "    <tr>\n",
       "      <th>761</th>\n",
       "      <td>200901CP00129</td>\n",
       "      <td>5/15/2021</td>\n",
       "      <td>Friday</td>\n",
       "      <td>Auto traffic signal</td>\n",
       "      <td>Crossroads</td>\n",
       "      <td>Fetal</td>\n",
       "      <td>51.518229</td>\n",
       "      <td>Daylight</td>\n",
       "      <td>Camden</td>\n",
       "      <td>NaN</td>\n",
       "      <td>...</td>\n",
       "      <td>1</td>\n",
       "      <td>1</td>\n",
       "      <td>Metropolitan Police</td>\n",
       "      <td>Wet or damp</td>\n",
       "      <td>Single carriageway</td>\n",
       "      <td>30</td>\n",
       "      <td>6:55</td>\n",
       "      <td>Urban</td>\n",
       "      <td>NaN</td>\n",
       "      <td>Car</td>\n",
       "    </tr>\n",
       "    <tr>\n",
       "      <th>972</th>\n",
       "      <td>200901CW10065</td>\n",
       "      <td>1/29/2021</td>\n",
       "      <td>Thursday</td>\n",
       "      <td>Auto traffic signal</td>\n",
       "      <td>Crossroads</td>\n",
       "      <td>Slight</td>\n",
       "      <td>51.515218</td>\n",
       "      <td>Daylight</td>\n",
       "      <td>Westminster</td>\n",
       "      <td>NaN</td>\n",
       "      <td>...</td>\n",
       "      <td>1</td>\n",
       "      <td>1</td>\n",
       "      <td>Metropolitan Police</td>\n",
       "      <td>Dry</td>\n",
       "      <td>Single carriageway</td>\n",
       "      <td>30</td>\n",
       "      <td>18:34</td>\n",
       "      <td>Urban</td>\n",
       "      <td>NaN</td>\n",
       "      <td>Motorcycle over 125cc and up to 500cc</td>\n",
       "    </tr>\n",
       "    <tr>\n",
       "      <th>1005</th>\n",
       "      <td>200901CW10111</td>\n",
       "      <td>2/6/2021</td>\n",
       "      <td>Friday</td>\n",
       "      <td>Auto traffic signal</td>\n",
       "      <td>More than 4 arms (not roundabout)</td>\n",
       "      <td>Slight</td>\n",
       "      <td>51.556794</td>\n",
       "      <td>Darkness - lights lit</td>\n",
       "      <td>Islington</td>\n",
       "      <td>NaN</td>\n",
       "      <td>...</td>\n",
       "      <td>1</td>\n",
       "      <td>2</td>\n",
       "      <td>Metropolitan Police</td>\n",
       "      <td>Wet or damp</td>\n",
       "      <td>Single carriageway</td>\n",
       "      <td>30</td>\n",
       "      <td>18:25</td>\n",
       "      <td>Urban</td>\n",
       "      <td>NaN</td>\n",
       "      <td>Car</td>\n",
       "    </tr>\n",
       "    <tr>\n",
       "      <th>1059</th>\n",
       "      <td>200901CW10179</td>\n",
       "      <td>1/11/2021</td>\n",
       "      <td>Sunday</td>\n",
       "      <td>Auto traffic signal</td>\n",
       "      <td>T or staggered junction</td>\n",
       "      <td>Slight</td>\n",
       "      <td>51.539230</td>\n",
       "      <td>Darkness - lights lit</td>\n",
       "      <td>Camden</td>\n",
       "      <td>NaN</td>\n",
       "      <td>...</td>\n",
       "      <td>1</td>\n",
       "      <td>1</td>\n",
       "      <td>Metropolitan Police</td>\n",
       "      <td>Wet or damp</td>\n",
       "      <td>One way street</td>\n",
       "      <td>30</td>\n",
       "      <td>0:41</td>\n",
       "      <td>Urban</td>\n",
       "      <td>NaN</td>\n",
       "      <td>Car</td>\n",
       "    </tr>\n",
       "    <tr>\n",
       "      <th>1089</th>\n",
       "      <td>200901CW10224</td>\n",
       "      <td>1/30/2021</td>\n",
       "      <td>Friday</td>\n",
       "      <td>Data missing or out of range</td>\n",
       "      <td>Not at junction or within 20 metres</td>\n",
       "      <td>Fatal</td>\n",
       "      <td>51.537504</td>\n",
       "      <td>Daylight</td>\n",
       "      <td>Camden</td>\n",
       "      <td>NaN</td>\n",
       "      <td>...</td>\n",
       "      <td>1</td>\n",
       "      <td>1</td>\n",
       "      <td>Metropolitan Police</td>\n",
       "      <td>Dry</td>\n",
       "      <td>Single carriageway</td>\n",
       "      <td>30</td>\n",
       "      <td>11:00</td>\n",
       "      <td>Urban</td>\n",
       "      <td>NaN</td>\n",
       "      <td>Motorcycle over 500cc</td>\n",
       "    </tr>\n",
       "    <tr>\n",
       "      <th>...</th>\n",
       "      <td>...</td>\n",
       "      <td>...</td>\n",
       "      <td>...</td>\n",
       "      <td>...</td>\n",
       "      <td>...</td>\n",
       "      <td>...</td>\n",
       "      <td>...</td>\n",
       "      <td>...</td>\n",
       "      <td>...</td>\n",
       "      <td>...</td>\n",
       "      <td>...</td>\n",
       "      <td>...</td>\n",
       "      <td>...</td>\n",
       "      <td>...</td>\n",
       "      <td>...</td>\n",
       "      <td>...</td>\n",
       "      <td>...</td>\n",
       "      <td>...</td>\n",
       "      <td>...</td>\n",
       "      <td>...</td>\n",
       "      <td>...</td>\n",
       "    </tr>\n",
       "    <tr>\n",
       "      <th>307341</th>\n",
       "      <td>201063DP08310</td>\n",
       "      <td>3/24/2022</td>\n",
       "      <td>Wednesday</td>\n",
       "      <td>Data missing or out of range</td>\n",
       "      <td>Not at junction or within 20 metres</td>\n",
       "      <td>Slight</td>\n",
       "      <td>51.874490</td>\n",
       "      <td>Darkness - no lighting</td>\n",
       "      <td>Powys</td>\n",
       "      <td>NaN</td>\n",
       "      <td>...</td>\n",
       "      <td>1</td>\n",
       "      <td>2</td>\n",
       "      <td>Dyfed-Powys</td>\n",
       "      <td>Wet or damp</td>\n",
       "      <td>Single carriageway</td>\n",
       "      <td>30</td>\n",
       "      <td>19:00</td>\n",
       "      <td>Rural</td>\n",
       "      <td>NaN</td>\n",
       "      <td>Car</td>\n",
       "    </tr>\n",
       "    <tr>\n",
       "      <th>307376</th>\n",
       "      <td>201063DP11810</td>\n",
       "      <td>5/5/2022</td>\n",
       "      <td>Wednesday</td>\n",
       "      <td>Give way or uncontrolled</td>\n",
       "      <td>Private drive or entrance</td>\n",
       "      <td>Slight</td>\n",
       "      <td>52.525846</td>\n",
       "      <td>Daylight</td>\n",
       "      <td>Powys</td>\n",
       "      <td>NaN</td>\n",
       "      <td>...</td>\n",
       "      <td>1</td>\n",
       "      <td>2</td>\n",
       "      <td>Dyfed-Powys</td>\n",
       "      <td>Dry</td>\n",
       "      <td>Single carriageway</td>\n",
       "      <td>60</td>\n",
       "      <td>15:30</td>\n",
       "      <td>Rural</td>\n",
       "      <td>NaN</td>\n",
       "      <td>Motorcycle over 500cc</td>\n",
       "    </tr>\n",
       "    <tr>\n",
       "      <th>307389</th>\n",
       "      <td>201063DP13210</td>\n",
       "      <td>3/31/2022</td>\n",
       "      <td>Wednesday</td>\n",
       "      <td>Give way or uncontrolled</td>\n",
       "      <td>T or staggered junction</td>\n",
       "      <td>Slight</td>\n",
       "      <td>51.866983</td>\n",
       "      <td>Daylight</td>\n",
       "      <td>Powys</td>\n",
       "      <td>NaN</td>\n",
       "      <td>...</td>\n",
       "      <td>1</td>\n",
       "      <td>3</td>\n",
       "      <td>Dyfed-Powys</td>\n",
       "      <td>Dry</td>\n",
       "      <td>Single carriageway</td>\n",
       "      <td>60</td>\n",
       "      <td>8:00</td>\n",
       "      <td>Rural</td>\n",
       "      <td>NaN</td>\n",
       "      <td>Car</td>\n",
       "    </tr>\n",
       "    <tr>\n",
       "      <th>307536</th>\n",
       "      <td>201063DP28310</td>\n",
       "      <td>8/26/2022</td>\n",
       "      <td>Thursday</td>\n",
       "      <td>Data missing or out of range</td>\n",
       "      <td>Not at junction or within 20 metres</td>\n",
       "      <td>Slight</td>\n",
       "      <td>52.329657</td>\n",
       "      <td>Daylight</td>\n",
       "      <td>Powys</td>\n",
       "      <td>NaN</td>\n",
       "      <td>...</td>\n",
       "      <td>1</td>\n",
       "      <td>2</td>\n",
       "      <td>Dyfed-Powys</td>\n",
       "      <td>Dry</td>\n",
       "      <td>Single carriageway</td>\n",
       "      <td>60</td>\n",
       "      <td>7:00</td>\n",
       "      <td>Rural</td>\n",
       "      <td>NaN</td>\n",
       "      <td>Car</td>\n",
       "    </tr>\n",
       "    <tr>\n",
       "      <th>307943</th>\n",
       "      <td>201091NL06425</td>\n",
       "      <td>11/16/2022</td>\n",
       "      <td>Tuesday</td>\n",
       "      <td>Give way or uncontrolled</td>\n",
       "      <td>T or staggered junction</td>\n",
       "      <td>Slight</td>\n",
       "      <td>60.189955</td>\n",
       "      <td>Darkness - no lighting</td>\n",
       "      <td>Shetland Islands</td>\n",
       "      <td>NaN</td>\n",
       "      <td>...</td>\n",
       "      <td>1</td>\n",
       "      <td>2</td>\n",
       "      <td>Northern</td>\n",
       "      <td>Dry</td>\n",
       "      <td>Single carriageway</td>\n",
       "      <td>60</td>\n",
       "      <td>22:20</td>\n",
       "      <td>Rural</td>\n",
       "      <td>NaN</td>\n",
       "      <td>Car</td>\n",
       "    </tr>\n",
       "  </tbody>\n",
       "</table>\n",
       "<p>6057 rows × 21 columns</p>\n",
       "</div>"
      ],
      "text/plain": [
       "       Accident_Index Accident Date Day_of_Week              Junction_Control  \\\n",
       "761     200901CP00129     5/15/2021      Friday           Auto traffic signal   \n",
       "972     200901CW10065     1/29/2021    Thursday           Auto traffic signal   \n",
       "1005    200901CW10111      2/6/2021      Friday           Auto traffic signal   \n",
       "1059    200901CW10179     1/11/2021      Sunday           Auto traffic signal   \n",
       "1089    200901CW10224     1/30/2021      Friday  Data missing or out of range   \n",
       "...               ...           ...         ...                           ...   \n",
       "307341  201063DP08310     3/24/2022   Wednesday  Data missing or out of range   \n",
       "307376  201063DP11810      5/5/2022   Wednesday      Give way or uncontrolled   \n",
       "307389  201063DP13210     3/31/2022   Wednesday      Give way or uncontrolled   \n",
       "307536  201063DP28310     8/26/2022    Thursday  Data missing or out of range   \n",
       "307943  201091NL06425    11/16/2022     Tuesday      Give way or uncontrolled   \n",
       "\n",
       "                            Junction_Detail Accident_Severity   Latitude  \\\n",
       "761                              Crossroads             Fetal  51.518229   \n",
       "972                              Crossroads            Slight  51.515218   \n",
       "1005      More than 4 arms (not roundabout)            Slight  51.556794   \n",
       "1059                T or staggered junction            Slight  51.539230   \n",
       "1089    Not at junction or within 20 metres             Fatal  51.537504   \n",
       "...                                     ...               ...        ...   \n",
       "307341  Not at junction or within 20 metres            Slight  51.874490   \n",
       "307376            Private drive or entrance            Slight  52.525846   \n",
       "307389              T or staggered junction            Slight  51.866983   \n",
       "307536  Not at junction or within 20 metres            Slight  52.329657   \n",
       "307943              T or staggered junction            Slight  60.189955   \n",
       "\n",
       "              Light_Conditions Local_Authority_(District) Carriageway_Hazards  \\\n",
       "761                   Daylight                     Camden                 NaN   \n",
       "972                   Daylight                Westminster                 NaN   \n",
       "1005     Darkness - lights lit                  Islington                 NaN   \n",
       "1059     Darkness - lights lit                     Camden                 NaN   \n",
       "1089                  Daylight                     Camden                 NaN   \n",
       "...                        ...                        ...                 ...   \n",
       "307341  Darkness - no lighting                      Powys                 NaN   \n",
       "307376                Daylight                      Powys                 NaN   \n",
       "307389                Daylight                      Powys                 NaN   \n",
       "307536                Daylight                      Powys                 NaN   \n",
       "307943  Darkness - no lighting           Shetland Islands                 NaN   \n",
       "\n",
       "        ...  Number_of_Casualties  Number_of_Vehicles         Police_Force  \\\n",
       "761     ...                     1                   1  Metropolitan Police   \n",
       "972     ...                     1                   1  Metropolitan Police   \n",
       "1005    ...                     1                   2  Metropolitan Police   \n",
       "1059    ...                     1                   1  Metropolitan Police   \n",
       "1089    ...                     1                   1  Metropolitan Police   \n",
       "...     ...                   ...                 ...                  ...   \n",
       "307341  ...                     1                   2          Dyfed-Powys   \n",
       "307376  ...                     1                   2          Dyfed-Powys   \n",
       "307389  ...                     1                   3          Dyfed-Powys   \n",
       "307536  ...                     1                   2          Dyfed-Powys   \n",
       "307943  ...                     1                   2             Northern   \n",
       "\n",
       "       Road_Surface_Conditions           Road_Type Speed_limit   Time  \\\n",
       "761                Wet or damp  Single carriageway          30   6:55   \n",
       "972                        Dry  Single carriageway          30  18:34   \n",
       "1005               Wet or damp  Single carriageway          30  18:25   \n",
       "1059               Wet or damp      One way street          30   0:41   \n",
       "1089                       Dry  Single carriageway          30  11:00   \n",
       "...                        ...                 ...         ...    ...   \n",
       "307341             Wet or damp  Single carriageway          30  19:00   \n",
       "307376                     Dry  Single carriageway          60  15:30   \n",
       "307389                     Dry  Single carriageway          60   8:00   \n",
       "307536                     Dry  Single carriageway          60   7:00   \n",
       "307943                     Dry  Single carriageway          60  22:20   \n",
       "\n",
       "       Urban_or_Rural_Area Weather_Conditions  \\\n",
       "761                  Urban                NaN   \n",
       "972                  Urban                NaN   \n",
       "1005                 Urban                NaN   \n",
       "1059                 Urban                NaN   \n",
       "1089                 Urban                NaN   \n",
       "...                    ...                ...   \n",
       "307341               Rural                NaN   \n",
       "307376               Rural                NaN   \n",
       "307389               Rural                NaN   \n",
       "307536               Rural                NaN   \n",
       "307943               Rural                NaN   \n",
       "\n",
       "                                 Vehicle_Type  \n",
       "761                                       Car  \n",
       "972     Motorcycle over 125cc and up to 500cc  \n",
       "1005                                      Car  \n",
       "1059                                      Car  \n",
       "1089                    Motorcycle over 500cc  \n",
       "...                                       ...  \n",
       "307341                                    Car  \n",
       "307376                  Motorcycle over 500cc  \n",
       "307389                                    Car  \n",
       "307536                                    Car  \n",
       "307943                                    Car  \n",
       "\n",
       "[6057 rows x 21 columns]"
      ]
     },
     "execution_count": 20,
     "metadata": {},
     "output_type": "execute_result"
    }
   ],
   "source": [
    "accident_data[accident_data['Weather_Conditions'].isna()]"
   ]
  },
  {
   "cell_type": "code",
   "execution_count": 21,
   "metadata": {},
   "outputs": [
    {
     "data": {
      "text/plain": [
       "(4001, 9)"
      ]
     },
     "execution_count": 21,
     "metadata": {},
     "output_type": "execute_result"
    }
   ],
   "source": [
    "apple_quality = pd.read_csv('data/apple_quality.csv')\n",
    "apple_quality.shape"
   ]
  },
  {
   "cell_type": "code",
   "execution_count": 22,
   "id": "86336bc9",
   "metadata": {},
   "outputs": [
    {
     "data": {
      "text/html": [
       "<div>\n",
       "<style scoped>\n",
       "    .dataframe tbody tr th:only-of-type {\n",
       "        vertical-align: middle;\n",
       "    }\n",
       "\n",
       "    .dataframe tbody tr th {\n",
       "        vertical-align: top;\n",
       "    }\n",
       "\n",
       "    .dataframe thead th {\n",
       "        text-align: right;\n",
       "    }\n",
       "</style>\n",
       "<table border=\"1\" class=\"dataframe\">\n",
       "  <thead>\n",
       "    <tr style=\"text-align: right;\">\n",
       "      <th></th>\n",
       "      <th>A_id</th>\n",
       "      <th>Size</th>\n",
       "      <th>Weight</th>\n",
       "      <th>Sweetness</th>\n",
       "      <th>Crunchiness</th>\n",
       "      <th>Juiciness</th>\n",
       "      <th>Ripeness</th>\n",
       "      <th>Acidity</th>\n",
       "      <th>Quality</th>\n",
       "    </tr>\n",
       "  </thead>\n",
       "  <tbody>\n",
       "    <tr>\n",
       "      <th>0</th>\n",
       "      <td>0.0</td>\n",
       "      <td>-3.970049</td>\n",
       "      <td>-2.512336</td>\n",
       "      <td>5.346330</td>\n",
       "      <td>-1.012009</td>\n",
       "      <td>1.844900</td>\n",
       "      <td>0.329840</td>\n",
       "      <td>-0.491590483</td>\n",
       "      <td>good</td>\n",
       "    </tr>\n",
       "    <tr>\n",
       "      <th>1</th>\n",
       "      <td>1.0</td>\n",
       "      <td>-1.195217</td>\n",
       "      <td>-2.839257</td>\n",
       "      <td>3.664059</td>\n",
       "      <td>1.588232</td>\n",
       "      <td>0.853286</td>\n",
       "      <td>0.867530</td>\n",
       "      <td>-0.722809367</td>\n",
       "      <td>good</td>\n",
       "    </tr>\n",
       "    <tr>\n",
       "      <th>2</th>\n",
       "      <td>2.0</td>\n",
       "      <td>-0.292024</td>\n",
       "      <td>-1.351282</td>\n",
       "      <td>-1.738429</td>\n",
       "      <td>-0.342616</td>\n",
       "      <td>2.838636</td>\n",
       "      <td>-0.038033</td>\n",
       "      <td>2.621636473</td>\n",
       "      <td>bad</td>\n",
       "    </tr>\n",
       "    <tr>\n",
       "      <th>3</th>\n",
       "      <td>3.0</td>\n",
       "      <td>-0.657196</td>\n",
       "      <td>-2.271627</td>\n",
       "      <td>1.324874</td>\n",
       "      <td>-0.097875</td>\n",
       "      <td>3.637970</td>\n",
       "      <td>-3.413761</td>\n",
       "      <td>0.790723217</td>\n",
       "      <td>good</td>\n",
       "    </tr>\n",
       "    <tr>\n",
       "      <th>4</th>\n",
       "      <td>4.0</td>\n",
       "      <td>1.364217</td>\n",
       "      <td>-1.296612</td>\n",
       "      <td>-0.384658</td>\n",
       "      <td>-0.553006</td>\n",
       "      <td>3.030874</td>\n",
       "      <td>-1.303849</td>\n",
       "      <td>0.501984036</td>\n",
       "      <td>good</td>\n",
       "    </tr>\n",
       "  </tbody>\n",
       "</table>\n",
       "</div>"
      ],
      "text/plain": [
       "   A_id      Size    Weight  Sweetness  Crunchiness  Juiciness  Ripeness  \\\n",
       "0   0.0 -3.970049 -2.512336   5.346330    -1.012009   1.844900  0.329840   \n",
       "1   1.0 -1.195217 -2.839257   3.664059     1.588232   0.853286  0.867530   \n",
       "2   2.0 -0.292024 -1.351282  -1.738429    -0.342616   2.838636 -0.038033   \n",
       "3   3.0 -0.657196 -2.271627   1.324874    -0.097875   3.637970 -3.413761   \n",
       "4   4.0  1.364217 -1.296612  -0.384658    -0.553006   3.030874 -1.303849   \n",
       "\n",
       "        Acidity Quality  \n",
       "0  -0.491590483    good  \n",
       "1  -0.722809367    good  \n",
       "2   2.621636473     bad  \n",
       "3   0.790723217    good  \n",
       "4   0.501984036    good  "
      ]
     },
     "execution_count": 22,
     "metadata": {},
     "output_type": "execute_result"
    }
   ],
   "source": [
    "apple_quality.head()"
   ]
  },
  {
   "cell_type": "markdown",
   "id": "b3129212",
   "metadata": {},
   "source": [
    "* **A_id**: Unique identifier for each fruit\n",
    "* **Size**: Size of the fruit\n",
    "* **Weight**: Weight of the fruit\n",
    "* **Sweetness**: Degree of sweetness of the fruit\n",
    "* **Crunchiness**: Texture indicating the crunchiness of the fruit\n",
    "* **Juiciness**: Level of juiciness of the fruit\n",
    "* **Ripeness**: Stage of ripeness of the fruit\n",
    "* **Acidity**: Acidity level of the fruit\n",
    "* **Quality**: Overall quality of the fruit"
   ]
  },
  {
   "cell_type": "code",
   "execution_count": 23,
   "id": "a3818e35",
   "metadata": {},
   "outputs": [
    {
     "name": "stdout",
     "output_type": "stream",
     "text": [
      "<class 'pandas.core.frame.DataFrame'>\n",
      "RangeIndex: 4001 entries, 0 to 4000\n",
      "Data columns (total 9 columns):\n",
      " #   Column       Non-Null Count  Dtype  \n",
      "---  ------       --------------  -----  \n",
      " 0   A_id         4000 non-null   float64\n",
      " 1   Size         4000 non-null   float64\n",
      " 2   Weight       4000 non-null   float64\n",
      " 3   Sweetness    4000 non-null   float64\n",
      " 4   Crunchiness  4000 non-null   float64\n",
      " 5   Juiciness    4000 non-null   float64\n",
      " 6   Ripeness     4000 non-null   float64\n",
      " 7   Acidity      4001 non-null   object \n",
      " 8   Quality      4000 non-null   object \n",
      "dtypes: float64(7), object(2)\n",
      "memory usage: 281.4+ KB\n"
     ]
    }
   ],
   "source": [
    "apple_quality.info()"
   ]
  },
  {
   "cell_type": "code",
   "execution_count": 24,
   "id": "dfd064bf",
   "metadata": {},
   "outputs": [
    {
     "data": {
      "text/plain": [
       "str"
      ]
     },
     "execution_count": 24,
     "metadata": {},
     "output_type": "execute_result"
    }
   ],
   "source": [
    "type(apple_quality['Acidity'][0])"
   ]
  },
  {
   "cell_type": "code",
   "execution_count": 31,
   "id": "82082084",
   "metadata": {},
   "outputs": [
    {
     "data": {
      "text/plain": [
       "0       True\n",
       "1       True\n",
       "2       True\n",
       "3       True\n",
       "4       True\n",
       "        ... \n",
       "3996    True\n",
       "3997    True\n",
       "3998    True\n",
       "3999    True\n",
       "4000    True\n",
       "Name: Acidity, Length: 4001, dtype: bool"
      ]
     },
     "execution_count": 31,
     "metadata": {},
     "output_type": "execute_result"
    }
   ],
   "source": [
    "# Check if 'Acidity' contains characters other than the minus sign\n",
    "has_invalid_chars = apple_quality['Acidity'].str.contains('[^-0-9]', regex=True)\n",
    "has_invalid_chars"
   ]
  },
  {
   "cell_type": "code",
   "execution_count": 26,
   "id": "9d18dbd3",
   "metadata": {},
   "outputs": [
    {
     "ename": "ValueError",
     "evalue": "could not convert string to float: 'Created_by_Nidula_Elgiriyewithana'",
     "output_type": "error",
     "traceback": [
      "\u001b[0;31m---------------------------------------------------------------------------\u001b[0m",
      "\u001b[0;31mValueError\u001b[0m                                Traceback (most recent call last)",
      "Cell \u001b[0;32mIn[26], line 2\u001b[0m\n\u001b[1;32m      1\u001b[0m \u001b[38;5;66;03m# Convert 'Acidity' to float\u001b[39;00m\n\u001b[0;32m----> 2\u001b[0m apple_quality[\u001b[38;5;124m'\u001b[39m\u001b[38;5;124mAcidity\u001b[39m\u001b[38;5;124m'\u001b[39m] \u001b[38;5;241m=\u001b[39m \u001b[43mapple_quality\u001b[49m\u001b[43m[\u001b[49m\u001b[38;5;124;43m'\u001b[39;49m\u001b[38;5;124;43mAcidity\u001b[39;49m\u001b[38;5;124;43m'\u001b[39;49m\u001b[43m]\u001b[49m\u001b[38;5;241;43m.\u001b[39;49m\u001b[43mastype\u001b[49m\u001b[43m(\u001b[49m\u001b[38;5;28;43mfloat\u001b[39;49m\u001b[43m)\u001b[49m\n\u001b[1;32m      3\u001b[0m \u001b[38;5;28mtype\u001b[39m(apple_quality[\u001b[38;5;124m'\u001b[39m\u001b[38;5;124mAcidity\u001b[39m\u001b[38;5;124m'\u001b[39m][\u001b[38;5;241m0\u001b[39m])\n",
      "File \u001b[0;32m~/Documents/Work/2024/Sessions/LinkedIn-Live/Code-Repo/linkedin-live-session/venv/lib/python3.12/site-packages/pandas/core/generic.py:6534\u001b[0m, in \u001b[0;36mNDFrame.astype\u001b[0;34m(self, dtype, copy, errors)\u001b[0m\n\u001b[1;32m   6530\u001b[0m     results \u001b[38;5;241m=\u001b[39m [ser\u001b[38;5;241m.\u001b[39mastype(dtype, copy\u001b[38;5;241m=\u001b[39mcopy) \u001b[38;5;28;01mfor\u001b[39;00m _, ser \u001b[38;5;129;01min\u001b[39;00m \u001b[38;5;28mself\u001b[39m\u001b[38;5;241m.\u001b[39mitems()]\n\u001b[1;32m   6532\u001b[0m \u001b[38;5;28;01melse\u001b[39;00m:\n\u001b[1;32m   6533\u001b[0m     \u001b[38;5;66;03m# else, only a single dtype is given\u001b[39;00m\n\u001b[0;32m-> 6534\u001b[0m     new_data \u001b[38;5;241m=\u001b[39m \u001b[38;5;28;43mself\u001b[39;49m\u001b[38;5;241;43m.\u001b[39;49m\u001b[43m_mgr\u001b[49m\u001b[38;5;241;43m.\u001b[39;49m\u001b[43mastype\u001b[49m\u001b[43m(\u001b[49m\u001b[43mdtype\u001b[49m\u001b[38;5;241;43m=\u001b[39;49m\u001b[43mdtype\u001b[49m\u001b[43m,\u001b[49m\u001b[43m \u001b[49m\u001b[43mcopy\u001b[49m\u001b[38;5;241;43m=\u001b[39;49m\u001b[43mcopy\u001b[49m\u001b[43m,\u001b[49m\u001b[43m \u001b[49m\u001b[43merrors\u001b[49m\u001b[38;5;241;43m=\u001b[39;49m\u001b[43merrors\u001b[49m\u001b[43m)\u001b[49m\n\u001b[1;32m   6535\u001b[0m     res \u001b[38;5;241m=\u001b[39m \u001b[38;5;28mself\u001b[39m\u001b[38;5;241m.\u001b[39m_constructor_from_mgr(new_data, axes\u001b[38;5;241m=\u001b[39mnew_data\u001b[38;5;241m.\u001b[39maxes)\n\u001b[1;32m   6536\u001b[0m     \u001b[38;5;28;01mreturn\u001b[39;00m res\u001b[38;5;241m.\u001b[39m__finalize__(\u001b[38;5;28mself\u001b[39m, method\u001b[38;5;241m=\u001b[39m\u001b[38;5;124m\"\u001b[39m\u001b[38;5;124mastype\u001b[39m\u001b[38;5;124m\"\u001b[39m)\n",
      "File \u001b[0;32m~/Documents/Work/2024/Sessions/LinkedIn-Live/Code-Repo/linkedin-live-session/venv/lib/python3.12/site-packages/pandas/core/internals/managers.py:414\u001b[0m, in \u001b[0;36mBaseBlockManager.astype\u001b[0;34m(self, dtype, copy, errors)\u001b[0m\n\u001b[1;32m    411\u001b[0m \u001b[38;5;28;01melif\u001b[39;00m using_copy_on_write():\n\u001b[1;32m    412\u001b[0m     copy \u001b[38;5;241m=\u001b[39m \u001b[38;5;28;01mFalse\u001b[39;00m\n\u001b[0;32m--> 414\u001b[0m \u001b[38;5;28;01mreturn\u001b[39;00m \u001b[38;5;28;43mself\u001b[39;49m\u001b[38;5;241;43m.\u001b[39;49m\u001b[43mapply\u001b[49m\u001b[43m(\u001b[49m\n\u001b[1;32m    415\u001b[0m \u001b[43m    \u001b[49m\u001b[38;5;124;43m\"\u001b[39;49m\u001b[38;5;124;43mastype\u001b[39;49m\u001b[38;5;124;43m\"\u001b[39;49m\u001b[43m,\u001b[49m\n\u001b[1;32m    416\u001b[0m \u001b[43m    \u001b[49m\u001b[43mdtype\u001b[49m\u001b[38;5;241;43m=\u001b[39;49m\u001b[43mdtype\u001b[49m\u001b[43m,\u001b[49m\n\u001b[1;32m    417\u001b[0m \u001b[43m    \u001b[49m\u001b[43mcopy\u001b[49m\u001b[38;5;241;43m=\u001b[39;49m\u001b[43mcopy\u001b[49m\u001b[43m,\u001b[49m\n\u001b[1;32m    418\u001b[0m \u001b[43m    \u001b[49m\u001b[43merrors\u001b[49m\u001b[38;5;241;43m=\u001b[39;49m\u001b[43merrors\u001b[49m\u001b[43m,\u001b[49m\n\u001b[1;32m    419\u001b[0m \u001b[43m    \u001b[49m\u001b[43musing_cow\u001b[49m\u001b[38;5;241;43m=\u001b[39;49m\u001b[43musing_copy_on_write\u001b[49m\u001b[43m(\u001b[49m\u001b[43m)\u001b[49m\u001b[43m,\u001b[49m\n\u001b[1;32m    420\u001b[0m \u001b[43m\u001b[49m\u001b[43m)\u001b[49m\n",
      "File \u001b[0;32m~/Documents/Work/2024/Sessions/LinkedIn-Live/Code-Repo/linkedin-live-session/venv/lib/python3.12/site-packages/pandas/core/internals/managers.py:354\u001b[0m, in \u001b[0;36mBaseBlockManager.apply\u001b[0;34m(self, f, align_keys, **kwargs)\u001b[0m\n\u001b[1;32m    352\u001b[0m         applied \u001b[38;5;241m=\u001b[39m b\u001b[38;5;241m.\u001b[39mapply(f, \u001b[38;5;241m*\u001b[39m\u001b[38;5;241m*\u001b[39mkwargs)\n\u001b[1;32m    353\u001b[0m     \u001b[38;5;28;01melse\u001b[39;00m:\n\u001b[0;32m--> 354\u001b[0m         applied \u001b[38;5;241m=\u001b[39m \u001b[38;5;28;43mgetattr\u001b[39;49m\u001b[43m(\u001b[49m\u001b[43mb\u001b[49m\u001b[43m,\u001b[49m\u001b[43m \u001b[49m\u001b[43mf\u001b[49m\u001b[43m)\u001b[49m\u001b[43m(\u001b[49m\u001b[38;5;241;43m*\u001b[39;49m\u001b[38;5;241;43m*\u001b[39;49m\u001b[43mkwargs\u001b[49m\u001b[43m)\u001b[49m\n\u001b[1;32m    355\u001b[0m     result_blocks \u001b[38;5;241m=\u001b[39m extend_blocks(applied, result_blocks)\n\u001b[1;32m    357\u001b[0m out \u001b[38;5;241m=\u001b[39m \u001b[38;5;28mtype\u001b[39m(\u001b[38;5;28mself\u001b[39m)\u001b[38;5;241m.\u001b[39mfrom_blocks(result_blocks, \u001b[38;5;28mself\u001b[39m\u001b[38;5;241m.\u001b[39maxes)\n",
      "File \u001b[0;32m~/Documents/Work/2024/Sessions/LinkedIn-Live/Code-Repo/linkedin-live-session/venv/lib/python3.12/site-packages/pandas/core/internals/blocks.py:616\u001b[0m, in \u001b[0;36mBlock.astype\u001b[0;34m(self, dtype, copy, errors, using_cow)\u001b[0m\n\u001b[1;32m    596\u001b[0m \u001b[38;5;250m\u001b[39m\u001b[38;5;124;03m\"\"\"\u001b[39;00m\n\u001b[1;32m    597\u001b[0m \u001b[38;5;124;03mCoerce to the new dtype.\u001b[39;00m\n\u001b[1;32m    598\u001b[0m \n\u001b[0;32m   (...)\u001b[0m\n\u001b[1;32m    612\u001b[0m \u001b[38;5;124;03mBlock\u001b[39;00m\n\u001b[1;32m    613\u001b[0m \u001b[38;5;124;03m\"\"\"\u001b[39;00m\n\u001b[1;32m    614\u001b[0m values \u001b[38;5;241m=\u001b[39m \u001b[38;5;28mself\u001b[39m\u001b[38;5;241m.\u001b[39mvalues\n\u001b[0;32m--> 616\u001b[0m new_values \u001b[38;5;241m=\u001b[39m \u001b[43mastype_array_safe\u001b[49m\u001b[43m(\u001b[49m\u001b[43mvalues\u001b[49m\u001b[43m,\u001b[49m\u001b[43m \u001b[49m\u001b[43mdtype\u001b[49m\u001b[43m,\u001b[49m\u001b[43m \u001b[49m\u001b[43mcopy\u001b[49m\u001b[38;5;241;43m=\u001b[39;49m\u001b[43mcopy\u001b[49m\u001b[43m,\u001b[49m\u001b[43m \u001b[49m\u001b[43merrors\u001b[49m\u001b[38;5;241;43m=\u001b[39;49m\u001b[43merrors\u001b[49m\u001b[43m)\u001b[49m\n\u001b[1;32m    618\u001b[0m new_values \u001b[38;5;241m=\u001b[39m maybe_coerce_values(new_values)\n\u001b[1;32m    620\u001b[0m refs \u001b[38;5;241m=\u001b[39m \u001b[38;5;28;01mNone\u001b[39;00m\n",
      "File \u001b[0;32m~/Documents/Work/2024/Sessions/LinkedIn-Live/Code-Repo/linkedin-live-session/venv/lib/python3.12/site-packages/pandas/core/dtypes/astype.py:238\u001b[0m, in \u001b[0;36mastype_array_safe\u001b[0;34m(values, dtype, copy, errors)\u001b[0m\n\u001b[1;32m    235\u001b[0m     dtype \u001b[38;5;241m=\u001b[39m dtype\u001b[38;5;241m.\u001b[39mnumpy_dtype\n\u001b[1;32m    237\u001b[0m \u001b[38;5;28;01mtry\u001b[39;00m:\n\u001b[0;32m--> 238\u001b[0m     new_values \u001b[38;5;241m=\u001b[39m \u001b[43mastype_array\u001b[49m\u001b[43m(\u001b[49m\u001b[43mvalues\u001b[49m\u001b[43m,\u001b[49m\u001b[43m \u001b[49m\u001b[43mdtype\u001b[49m\u001b[43m,\u001b[49m\u001b[43m \u001b[49m\u001b[43mcopy\u001b[49m\u001b[38;5;241;43m=\u001b[39;49m\u001b[43mcopy\u001b[49m\u001b[43m)\u001b[49m\n\u001b[1;32m    239\u001b[0m \u001b[38;5;28;01mexcept\u001b[39;00m (\u001b[38;5;167;01mValueError\u001b[39;00m, \u001b[38;5;167;01mTypeError\u001b[39;00m):\n\u001b[1;32m    240\u001b[0m     \u001b[38;5;66;03m# e.g. _astype_nansafe can fail on object-dtype of strings\u001b[39;00m\n\u001b[1;32m    241\u001b[0m     \u001b[38;5;66;03m#  trying to convert to float\u001b[39;00m\n\u001b[1;32m    242\u001b[0m     \u001b[38;5;28;01mif\u001b[39;00m errors \u001b[38;5;241m==\u001b[39m \u001b[38;5;124m\"\u001b[39m\u001b[38;5;124mignore\u001b[39m\u001b[38;5;124m\"\u001b[39m:\n",
      "File \u001b[0;32m~/Documents/Work/2024/Sessions/LinkedIn-Live/Code-Repo/linkedin-live-session/venv/lib/python3.12/site-packages/pandas/core/dtypes/astype.py:183\u001b[0m, in \u001b[0;36mastype_array\u001b[0;34m(values, dtype, copy)\u001b[0m\n\u001b[1;32m    180\u001b[0m     values \u001b[38;5;241m=\u001b[39m values\u001b[38;5;241m.\u001b[39mastype(dtype, copy\u001b[38;5;241m=\u001b[39mcopy)\n\u001b[1;32m    182\u001b[0m \u001b[38;5;28;01melse\u001b[39;00m:\n\u001b[0;32m--> 183\u001b[0m     values \u001b[38;5;241m=\u001b[39m \u001b[43m_astype_nansafe\u001b[49m\u001b[43m(\u001b[49m\u001b[43mvalues\u001b[49m\u001b[43m,\u001b[49m\u001b[43m \u001b[49m\u001b[43mdtype\u001b[49m\u001b[43m,\u001b[49m\u001b[43m \u001b[49m\u001b[43mcopy\u001b[49m\u001b[38;5;241;43m=\u001b[39;49m\u001b[43mcopy\u001b[49m\u001b[43m)\u001b[49m\n\u001b[1;32m    185\u001b[0m \u001b[38;5;66;03m# in pandas we don't store numpy str dtypes, so convert to object\u001b[39;00m\n\u001b[1;32m    186\u001b[0m \u001b[38;5;28;01mif\u001b[39;00m \u001b[38;5;28misinstance\u001b[39m(dtype, np\u001b[38;5;241m.\u001b[39mdtype) \u001b[38;5;129;01mand\u001b[39;00m \u001b[38;5;28missubclass\u001b[39m(values\u001b[38;5;241m.\u001b[39mdtype\u001b[38;5;241m.\u001b[39mtype, \u001b[38;5;28mstr\u001b[39m):\n",
      "File \u001b[0;32m~/Documents/Work/2024/Sessions/LinkedIn-Live/Code-Repo/linkedin-live-session/venv/lib/python3.12/site-packages/pandas/core/dtypes/astype.py:134\u001b[0m, in \u001b[0;36m_astype_nansafe\u001b[0;34m(arr, dtype, copy, skipna)\u001b[0m\n\u001b[1;32m    130\u001b[0m     \u001b[38;5;28;01mraise\u001b[39;00m \u001b[38;5;167;01mValueError\u001b[39;00m(msg)\n\u001b[1;32m    132\u001b[0m \u001b[38;5;28;01mif\u001b[39;00m copy \u001b[38;5;129;01mor\u001b[39;00m arr\u001b[38;5;241m.\u001b[39mdtype \u001b[38;5;241m==\u001b[39m \u001b[38;5;28mobject\u001b[39m \u001b[38;5;129;01mor\u001b[39;00m dtype \u001b[38;5;241m==\u001b[39m \u001b[38;5;28mobject\u001b[39m:\n\u001b[1;32m    133\u001b[0m     \u001b[38;5;66;03m# Explicit copy, or required since NumPy can't view from / to object.\u001b[39;00m\n\u001b[0;32m--> 134\u001b[0m     \u001b[38;5;28;01mreturn\u001b[39;00m \u001b[43marr\u001b[49m\u001b[38;5;241;43m.\u001b[39;49m\u001b[43mastype\u001b[49m\u001b[43m(\u001b[49m\u001b[43mdtype\u001b[49m\u001b[43m,\u001b[49m\u001b[43m \u001b[49m\u001b[43mcopy\u001b[49m\u001b[38;5;241;43m=\u001b[39;49m\u001b[38;5;28;43;01mTrue\u001b[39;49;00m\u001b[43m)\u001b[49m\n\u001b[1;32m    136\u001b[0m \u001b[38;5;28;01mreturn\u001b[39;00m arr\u001b[38;5;241m.\u001b[39mastype(dtype, copy\u001b[38;5;241m=\u001b[39mcopy)\n",
      "\u001b[0;31mValueError\u001b[0m: could not convert string to float: 'Created_by_Nidula_Elgiriyewithana'"
     ]
    }
   ],
   "source": [
    "# Convert 'Acidity' to float\n",
    "apple_quality['Acidity'] = apple_quality['Acidity'].astype(float)\n",
    "type(apple_quality['Acidity'][0])"
   ]
  },
  {
   "cell_type": "code",
   "execution_count": null,
   "id": "9a20b274",
   "metadata": {},
   "outputs": [],
   "source": []
  },
  {
   "cell_type": "code",
   "execution_count": null,
   "id": "ed165ff8",
   "metadata": {},
   "outputs": [],
   "source": []
  },
  {
   "cell_type": "code",
   "execution_count": null,
   "id": "1ae2cbd2",
   "metadata": {},
   "outputs": [],
   "source": []
  },
  {
   "cell_type": "code",
   "execution_count": null,
   "id": "fc0a37b6",
   "metadata": {},
   "outputs": [],
   "source": []
  },
  {
   "cell_type": "markdown",
   "id": "3861ec7f",
   "metadata": {},
   "source": [
    "### Date and Time Features:\n",
    "* Extract day of the week from the `order_date`.\n",
    "* Extract month from the `order_date`.\n",
    "* Divide the day into time slots (morning, afternoon, evening, night) based on `order_date`."
   ]
  },
  {
   "cell_type": "code",
   "execution_count": null,
   "id": "106a4497",
   "metadata": {},
   "outputs": [],
   "source": [
    "df['order_time'].head()"
   ]
  },
  {
   "cell_type": "code",
   "execution_count": null,
   "id": "8af8488d",
   "metadata": {},
   "outputs": [],
   "source": [
    "df['order_date'].head()"
   ]
  },
  {
   "cell_type": "code",
   "execution_count": null,
   "id": "11f48693",
   "metadata": {},
   "outputs": [],
   "source": [
    "# Check if any date contains \"-\"\n",
    "has_dash = df['order_date'].str.contains('-')\n",
    "df[has_dash]"
   ]
  },
  {
   "cell_type": "code",
   "execution_count": null,
   "id": "abf4698c",
   "metadata": {},
   "outputs": [],
   "source": [
    "# Replace \"-\" with \"/\"\n",
    "df['order_date'] = df['order_date'].str.replace('-', '/')"
   ]
  },
  {
   "cell_type": "code",
   "execution_count": null,
   "id": "19a7c246",
   "metadata": {},
   "outputs": [],
   "source": [
    "# Check if any date contains \"-\"\n",
    "has_dash = df['order_date'].str.contains('-')\n",
    "df[has_dash]"
   ]
  },
  {
   "cell_type": "code",
   "execution_count": null,
   "id": "d3bedee4",
   "metadata": {},
   "outputs": [],
   "source": [
    "# Convert to datetime with errors='coerce'\n",
    "df['order_date'] = pd.to_datetime(df['order_date'], format='%d/%m/%Y', errors='coerce')\n"
   ]
  },
  {
   "cell_type": "code",
   "execution_count": null,
   "id": "98e31291",
   "metadata": {},
   "outputs": [],
   "source": [
    "# Find rows where the date doesn't match the format\n",
    "invalid_date_rows = df[df['order_date'].isna()]\n",
    "invalid_date_rows"
   ]
  },
  {
   "cell_type": "code",
   "execution_count": null,
   "id": "8ce98e57",
   "metadata": {},
   "outputs": [],
   "source": [
    "df['day_of_week'] = df['order_date'].dt.day_name()\n"
   ]
  },
  {
   "cell_type": "code",
   "execution_count": null,
   "id": "7d5708ea",
   "metadata": {},
   "outputs": [],
   "source": [
    "df['day_of_week'].head()"
   ]
  },
  {
   "cell_type": "code",
   "execution_count": null,
   "id": "986ab692",
   "metadata": {},
   "outputs": [],
   "source": [
    "df['month'] = df['order_date'].dt.month"
   ]
  },
  {
   "cell_type": "code",
   "execution_count": null,
   "id": "5c2444af",
   "metadata": {},
   "outputs": [],
   "source": [
    "df['month'].head()"
   ]
  },
  {
   "cell_type": "code",
   "execution_count": null,
   "id": "b397fbc4",
   "metadata": {},
   "outputs": [],
   "source": [
    "# Check if time has characters other than colon\n",
    "invalid_time_rows = df[df['order_time'].str.contains('[^:0-9]')]\n",
    "invalid_time_rows"
   ]
  },
  {
   "cell_type": "code",
   "execution_count": null,
   "id": "c97ea59b",
   "metadata": {},
   "outputs": [],
   "source": [
    "type(df['order_time'][0])"
   ]
  },
  {
   "cell_type": "code",
   "execution_count": null,
   "id": "48a71f98",
   "metadata": {},
   "outputs": [],
   "source": [
    "# Convert 'order_time' to datetime\n",
    "df['order_time'] = pd.to_datetime(df['order_time'], format='%H:%M:%S')\n",
    "\n",
    "# Extract total seconds since midnight\n",
    "df['total_seconds'] = (df['order_time'].dt.hour * 3600 + df['order_time'].dt.minute * 60 + df['order_time'].dt.second)\n",
    "\n",
    "# Perform binning using pd.cut\n",
    "df['time_slot'] = pd.cut(df['total_seconds'], bins=[0, 6 * 3600, 12 * 3600, 18 * 3600, 24 * 3600], labels=['night', 'morning', 'afternoon', 'evening'])\n",
    "\n",
    "# Drop intermediate column 'total_seconds' if needed\n",
    "df = df.drop(columns=['total_seconds'])"
   ]
  },
  {
   "cell_type": "code",
   "execution_count": null,
   "id": "d3c1e55f",
   "metadata": {},
   "outputs": [],
   "source": [
    "df['time_slot'].head()"
   ]
  },
  {
   "cell_type": "code",
   "execution_count": null,
   "id": "ab89d4a4",
   "metadata": {},
   "outputs": [],
   "source": [
    "df['time_slot'].value_counts()"
   ]
  },
  {
   "cell_type": "code",
   "execution_count": null,
   "id": "549706b5",
   "metadata": {},
   "outputs": [],
   "source": [
    "# Find store opening and closing time\n",
    "store_opening_time = df['order_time'].min().time()\n",
    "store_closing_time = df['order_time'].max().time()\n",
    "\n",
    "print(f\"Store Opening Time: {store_opening_time}\")\n",
    "print(f\"Store Closing Time: {store_closing_time}\")"
   ]
  },
  {
   "cell_type": "code",
   "execution_count": null,
   "id": "74662d4c",
   "metadata": {},
   "outputs": [],
   "source": [
    "df[df['time_slot'] == 'night']"
   ]
  },
  {
   "cell_type": "code",
   "execution_count": null,
   "id": "061ec9a8",
   "metadata": {},
   "outputs": [],
   "source": [
    "# Drop rows where 'time_slot' is 'night'\n",
    "df = df[df['time_slot'] != 'night']\n",
    "df.shape"
   ]
  },
  {
   "cell_type": "code",
   "execution_count": null,
   "id": "3a12eeca",
   "metadata": {},
   "outputs": [],
   "source": [
    "# Normalize the 'time_slot' strings\n",
    "df['time_slot'] = df['time_slot'].str.lower().str.strip()"
   ]
  },
  {
   "cell_type": "code",
   "execution_count": null,
   "id": "225a351d",
   "metadata": {},
   "outputs": [],
   "source": [
    "df['time_slot'].value_counts()"
   ]
  },
  {
   "cell_type": "markdown",
   "id": "31db7e65",
   "metadata": {},
   "source": [
    "### Total Price Features:\n",
    "* Calculate the average price per unit for each pizza variant.\n",
    "* Calculate the total order price per unit."
   ]
  },
  {
   "cell_type": "code",
   "execution_count": null,
   "id": "48c4877b",
   "metadata": {},
   "outputs": [],
   "source": [
    "df['avg_price_per_unit'] = df['total_price'] / df['quantity']\n",
    "df['total_order_price'] = df.groupby('order_id')['total_price'].transform('sum')"
   ]
  },
  {
   "cell_type": "markdown",
   "id": "8327def7",
   "metadata": {},
   "source": [
    "### Pizza Size Encoding:\n",
    "* Convert categorical `pizza_size` into numerical values"
   ]
  },
  {
   "cell_type": "code",
   "execution_count": null,
   "id": "71f10ded",
   "metadata": {},
   "outputs": [],
   "source": [
    "df['pizza_size'].value_counts()"
   ]
  },
  {
   "cell_type": "code",
   "execution_count": null,
   "id": "94a61089",
   "metadata": {},
   "outputs": [],
   "source": [
    "label_encoder = preprocessing.LabelEncoder() \n",
    "df['pizza_size_encoded']= label_encoder.fit_transform(df['pizza_size'])\n",
    "df['pizza_size_encoded'].value_counts()"
   ]
  },
  {
   "cell_type": "markdown",
   "id": "ea9d55b1",
   "metadata": {},
   "source": [
    "### Pizza Ingredient Count:\n",
    "* Create a feature representing the number of ingredients in each pizza."
   ]
  },
  {
   "cell_type": "code",
   "execution_count": null,
   "id": "e4fb4285",
   "metadata": {},
   "outputs": [],
   "source": [
    "df['num_ingredients'] = df['pizza_ingredients'].apply(lambda x: len(x.split(',')))\n",
    "df.head()"
   ]
  },
  {
   "cell_type": "markdown",
   "id": "fdade208",
   "metadata": {},
   "source": [
    "### Pizza Name Length:\n",
    "* Create a feature representing the length of the pizza name"
   ]
  },
  {
   "cell_type": "code",
   "execution_count": null,
   "id": "409849e9",
   "metadata": {},
   "outputs": [],
   "source": [
    "df['pizza_name_length'] = df['pizza_name'].apply(len)"
   ]
  },
  {
   "cell_type": "markdown",
   "id": "88f43bd0",
   "metadata": {},
   "source": [
    "### Categorical Encoding:\n",
    "* Encode categorical variables like pizza_category using one-hot encoding."
   ]
  },
  {
   "cell_type": "code",
   "execution_count": null,
   "id": "c1f91ece",
   "metadata": {},
   "outputs": [],
   "source": [
    "df['pizza_category'].value_counts()"
   ]
  },
  {
   "cell_type": "code",
   "execution_count": null,
   "id": "d58f7fb6",
   "metadata": {},
   "outputs": [],
   "source": [
    "# Convert 'pizza_category' values to lowercase\n",
    "df['pizza_category'] = df['pizza_category'].str.lower()"
   ]
  },
  {
   "cell_type": "code",
   "execution_count": null,
   "id": "017c6078",
   "metadata": {},
   "outputs": [],
   "source": [
    "# One-Hot Encoding\n",
    "df = pd.get_dummies(df, columns=['pizza_category'], dtype=int)\n",
    "df.head()"
   ]
  },
  {
   "cell_type": "markdown",
   "id": "3075ff7c",
   "metadata": {},
   "source": [
    "### Time Since Last Order:\n",
    "* Calculate the time elapsed since the last order for each customer."
   ]
  },
  {
   "cell_type": "code",
   "execution_count": null,
   "id": "8a601fcd",
   "metadata": {},
   "outputs": [],
   "source": [
    "df.sort_values(by=['order_date', 'order_time'], inplace=True)\n",
    "df.head(40)"
   ]
  },
  {
   "cell_type": "code",
   "execution_count": null,
   "id": "70ad3c55",
   "metadata": {},
   "outputs": [],
   "source": [
    "df.sort_values(by=['order_date', 'order_time'], inplace=True)\n",
    "df['time_since_last_order'] = df.groupby('customer_id')['order_date'].diff().dt.days\n",
    "df.head()"
   ]
  },
  {
   "cell_type": "code",
   "execution_count": null,
   "id": "a9c4ca70",
   "metadata": {},
   "outputs": [],
   "source": []
  }
 ],
 "metadata": {
  "kernelspec": {
   "display_name": "Python 3 (ipykernel)",
   "language": "python",
   "name": "python3"
  },
  "language_info": {
   "codemirror_mode": {
    "name": "ipython",
    "version": 3
   },
   "file_extension": ".py",
   "mimetype": "text/x-python",
   "name": "python",
   "nbconvert_exporter": "python",
   "pygments_lexer": "ipython3",
   "version": "3.12.1"
  }
 },
 "nbformat": 4,
 "nbformat_minor": 5
}
